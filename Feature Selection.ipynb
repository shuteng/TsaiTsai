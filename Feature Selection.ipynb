{
 "cells": [
  {
   "cell_type": "code",
   "execution_count": 1,
   "metadata": {},
   "outputs": [],
   "source": [
    "import numpy as np\n",
    "import pandas as pd\n",
    "import matplotlib.pyplot as plt\n",
    "from sklearn.feature_selection import VarianceThreshold\n",
    "from sklearn.ensemble import RandomForestClassifier\n",
    "from sklearn.model_selection import cross_val_score\n",
    "import time, datetime, calendar"
   ]
  },
  {
   "cell_type": "code",
   "execution_count": 2,
   "metadata": {},
   "outputs": [],
   "source": [
    "data = pd.read_csv('digit recognizor.csv')"
   ]
  },
  {
   "cell_type": "code",
   "execution_count": 3,
   "metadata": {},
   "outputs": [
    {
     "data": {
      "text/html": [
       "<div>\n",
       "<style scoped>\n",
       "    .dataframe tbody tr th:only-of-type {\n",
       "        vertical-align: middle;\n",
       "    }\n",
       "\n",
       "    .dataframe tbody tr th {\n",
       "        vertical-align: top;\n",
       "    }\n",
       "\n",
       "    .dataframe thead th {\n",
       "        text-align: right;\n",
       "    }\n",
       "</style>\n",
       "<table border=\"1\" class=\"dataframe\">\n",
       "  <thead>\n",
       "    <tr style=\"text-align: right;\">\n",
       "      <th></th>\n",
       "      <th>label</th>\n",
       "      <th>pixel0</th>\n",
       "      <th>pixel1</th>\n",
       "      <th>pixel2</th>\n",
       "      <th>pixel3</th>\n",
       "      <th>pixel4</th>\n",
       "      <th>pixel5</th>\n",
       "      <th>pixel6</th>\n",
       "      <th>pixel7</th>\n",
       "      <th>pixel8</th>\n",
       "      <th>...</th>\n",
       "      <th>pixel774</th>\n",
       "      <th>pixel775</th>\n",
       "      <th>pixel776</th>\n",
       "      <th>pixel777</th>\n",
       "      <th>pixel778</th>\n",
       "      <th>pixel779</th>\n",
       "      <th>pixel780</th>\n",
       "      <th>pixel781</th>\n",
       "      <th>pixel782</th>\n",
       "      <th>pixel783</th>\n",
       "    </tr>\n",
       "  </thead>\n",
       "  <tbody>\n",
       "    <tr>\n",
       "      <th>0</th>\n",
       "      <td>1</td>\n",
       "      <td>0</td>\n",
       "      <td>0</td>\n",
       "      <td>0</td>\n",
       "      <td>0</td>\n",
       "      <td>0</td>\n",
       "      <td>0</td>\n",
       "      <td>0</td>\n",
       "      <td>0</td>\n",
       "      <td>0</td>\n",
       "      <td>...</td>\n",
       "      <td>0</td>\n",
       "      <td>0</td>\n",
       "      <td>0</td>\n",
       "      <td>0</td>\n",
       "      <td>0</td>\n",
       "      <td>0</td>\n",
       "      <td>0</td>\n",
       "      <td>0</td>\n",
       "      <td>0</td>\n",
       "      <td>0</td>\n",
       "    </tr>\n",
       "    <tr>\n",
       "      <th>1</th>\n",
       "      <td>0</td>\n",
       "      <td>0</td>\n",
       "      <td>0</td>\n",
       "      <td>0</td>\n",
       "      <td>0</td>\n",
       "      <td>0</td>\n",
       "      <td>0</td>\n",
       "      <td>0</td>\n",
       "      <td>0</td>\n",
       "      <td>0</td>\n",
       "      <td>...</td>\n",
       "      <td>0</td>\n",
       "      <td>0</td>\n",
       "      <td>0</td>\n",
       "      <td>0</td>\n",
       "      <td>0</td>\n",
       "      <td>0</td>\n",
       "      <td>0</td>\n",
       "      <td>0</td>\n",
       "      <td>0</td>\n",
       "      <td>0</td>\n",
       "    </tr>\n",
       "    <tr>\n",
       "      <th>2</th>\n",
       "      <td>1</td>\n",
       "      <td>0</td>\n",
       "      <td>0</td>\n",
       "      <td>0</td>\n",
       "      <td>0</td>\n",
       "      <td>0</td>\n",
       "      <td>0</td>\n",
       "      <td>0</td>\n",
       "      <td>0</td>\n",
       "      <td>0</td>\n",
       "      <td>...</td>\n",
       "      <td>0</td>\n",
       "      <td>0</td>\n",
       "      <td>0</td>\n",
       "      <td>0</td>\n",
       "      <td>0</td>\n",
       "      <td>0</td>\n",
       "      <td>0</td>\n",
       "      <td>0</td>\n",
       "      <td>0</td>\n",
       "      <td>0</td>\n",
       "    </tr>\n",
       "    <tr>\n",
       "      <th>3</th>\n",
       "      <td>4</td>\n",
       "      <td>0</td>\n",
       "      <td>0</td>\n",
       "      <td>0</td>\n",
       "      <td>0</td>\n",
       "      <td>0</td>\n",
       "      <td>0</td>\n",
       "      <td>0</td>\n",
       "      <td>0</td>\n",
       "      <td>0</td>\n",
       "      <td>...</td>\n",
       "      <td>0</td>\n",
       "      <td>0</td>\n",
       "      <td>0</td>\n",
       "      <td>0</td>\n",
       "      <td>0</td>\n",
       "      <td>0</td>\n",
       "      <td>0</td>\n",
       "      <td>0</td>\n",
       "      <td>0</td>\n",
       "      <td>0</td>\n",
       "    </tr>\n",
       "    <tr>\n",
       "      <th>4</th>\n",
       "      <td>0</td>\n",
       "      <td>0</td>\n",
       "      <td>0</td>\n",
       "      <td>0</td>\n",
       "      <td>0</td>\n",
       "      <td>0</td>\n",
       "      <td>0</td>\n",
       "      <td>0</td>\n",
       "      <td>0</td>\n",
       "      <td>0</td>\n",
       "      <td>...</td>\n",
       "      <td>0</td>\n",
       "      <td>0</td>\n",
       "      <td>0</td>\n",
       "      <td>0</td>\n",
       "      <td>0</td>\n",
       "      <td>0</td>\n",
       "      <td>0</td>\n",
       "      <td>0</td>\n",
       "      <td>0</td>\n",
       "      <td>0</td>\n",
       "    </tr>\n",
       "  </tbody>\n",
       "</table>\n",
       "<p>5 rows × 785 columns</p>\n",
       "</div>"
      ],
      "text/plain": [
       "   label  pixel0  pixel1  pixel2  pixel3  pixel4  pixel5  pixel6  pixel7  \\\n",
       "0      1       0       0       0       0       0       0       0       0   \n",
       "1      0       0       0       0       0       0       0       0       0   \n",
       "2      1       0       0       0       0       0       0       0       0   \n",
       "3      4       0       0       0       0       0       0       0       0   \n",
       "4      0       0       0       0       0       0       0       0       0   \n",
       "\n",
       "   pixel8  ...  pixel774  pixel775  pixel776  pixel777  pixel778  pixel779  \\\n",
       "0       0  ...         0         0         0         0         0         0   \n",
       "1       0  ...         0         0         0         0         0         0   \n",
       "2       0  ...         0         0         0         0         0         0   \n",
       "3       0  ...         0         0         0         0         0         0   \n",
       "4       0  ...         0         0         0         0         0         0   \n",
       "\n",
       "   pixel780  pixel781  pixel782  pixel783  \n",
       "0         0         0         0         0  \n",
       "1         0         0         0         0  \n",
       "2         0         0         0         0  \n",
       "3         0         0         0         0  \n",
       "4         0         0         0         0  \n",
       "\n",
       "[5 rows x 785 columns]"
      ]
     },
     "execution_count": 3,
     "metadata": {},
     "output_type": "execute_result"
    }
   ],
   "source": [
    "data.head()"
   ]
  },
  {
   "cell_type": "code",
   "execution_count": 4,
   "metadata": {},
   "outputs": [
    {
     "data": {
      "text/plain": [
       "(42000, 785)"
      ]
     },
     "execution_count": 4,
     "metadata": {},
     "output_type": "execute_result"
    }
   ],
   "source": [
    "data.shape"
   ]
  },
  {
   "cell_type": "code",
   "execution_count": 5,
   "metadata": {},
   "outputs": [],
   "source": [
    "x = data.iloc[:,1:]\n",
    "y = data.iloc[:,0]"
   ]
  },
  {
   "cell_type": "code",
   "execution_count": 6,
   "metadata": {},
   "outputs": [
    {
     "data": {
      "text/plain": [
       "(42000, 784)"
      ]
     },
     "execution_count": 6,
     "metadata": {},
     "output_type": "execute_result"
    }
   ],
   "source": [
    "x.shape"
   ]
  },
  {
   "cell_type": "markdown",
   "metadata": {},
   "source": [
    "# 過濾法"
   ]
  },
  {
   "cell_type": "code",
   "execution_count": 7,
   "metadata": {},
   "outputs": [],
   "source": [
    "#方差過濾\n",
    "x_varfilter = VarianceThreshold().fit_transform(x)"
   ]
  },
  {
   "cell_type": "code",
   "execution_count": 8,
   "metadata": {},
   "outputs": [
    {
     "data": {
      "text/plain": [
       "(42000, 708)"
      ]
     },
     "execution_count": 8,
     "metadata": {},
     "output_type": "execute_result"
    }
   ],
   "source": [
    "x_varfilter.shape"
   ]
  },
  {
   "cell_type": "code",
   "execution_count": 9,
   "metadata": {},
   "outputs": [],
   "source": [
    "#刪除方差在x.var().median()以下的特徵\n",
    "x_varfilter_median = VarianceThreshold(x.var().median()).fit_transform(x)"
   ]
  },
  {
   "cell_type": "code",
   "execution_count": 10,
   "metadata": {},
   "outputs": [
    {
     "data": {
      "text/plain": [
       "(42000, 392)"
      ]
     },
     "execution_count": 10,
     "metadata": {},
     "output_type": "execute_result"
    }
   ],
   "source": [
    "x_varfilter_median.shape"
   ]
  },
  {
   "cell_type": "code",
   "execution_count": 11,
   "metadata": {},
   "outputs": [
    {
     "name": "stdout",
     "output_type": "stream",
     "text": [
      "0.9381432010052206\n",
      "16.34066128730774\n"
     ]
    }
   ],
   "source": [
    "a = time.time()\n",
    "score_old = cross_val_score(RandomForestClassifier(n_estimators=10, random_state=1),x,y, cv = 5).mean()\n",
    "print(score_old)\n",
    "b = time.time()\n",
    "print(b - a)"
   ]
  },
  {
   "cell_type": "code",
   "execution_count": 12,
   "metadata": {},
   "outputs": [
    {
     "name": "stdout",
     "output_type": "stream",
     "text": [
      "0.9397388305201974\n",
      "17.33609390258789\n"
     ]
    }
   ],
   "source": [
    "a = time.time()\n",
    "score_new = cross_val_score(RandomForestClassifier(n_estimators=10, random_state=1), x_varfilter_median, y, cv=5).mean()\n",
    "print(score_new)\n",
    "b = time.time()\n",
    "print(b - a)"
   ]
  },
  {
   "cell_type": "code",
   "execution_count": 62,
   "metadata": {},
   "outputs": [],
   "source": [
    "#相關性過濾(卡方過濾: chi2, F檢驗-ANOVA: f_classif/f_regression 捕捉特徵與標籤間的線性關係, 互信息法: mutual_info_classif/mutual_info_regression 捕捉線性和非線性關係)\n",
    "from sklearn.feature_selection import chi2, SelectKBest"
   ]
  },
  {
   "cell_type": "code",
   "execution_count": 14,
   "metadata": {},
   "outputs": [
    {
     "data": {
      "text/plain": [
       "(42000, 300)"
      ]
     },
     "execution_count": 14,
     "metadata": {},
     "output_type": "execute_result"
    }
   ],
   "source": [
    "x_chi = SelectKBest(chi2, k=300).fit_transform(x_varfilter_median, y)\n",
    "x_chi.shape"
   ]
  },
  {
   "cell_type": "code",
   "execution_count": 15,
   "metadata": {},
   "outputs": [
    {
     "data": {
      "text/plain": [
       "0.9316192314893644"
      ]
     },
     "execution_count": 15,
     "metadata": {},
     "output_type": "execute_result"
    }
   ],
   "source": [
    "cross_val_score(RandomForestClassifier(n_estimators=10, random_state=1), x_chi, y, cv = 5).mean()"
   ]
  },
  {
   "cell_type": "code",
   "execution_count": 18,
   "metadata": {},
   "outputs": [
    {
     "data": {
      "text/plain": [
       "0.0"
      ]
     },
     "execution_count": 18,
     "metadata": {},
     "output_type": "execute_result"
    }
   ],
   "source": [
    "chivalue, pvalue = chi2(x_varfilter_median, y)\n",
    "pvalue.sum()"
   ]
  },
  {
   "cell_type": "markdown",
   "metadata": {},
   "source": [
    "# 嵌入法"
   ]
  },
  {
   "cell_type": "code",
   "execution_count": 19,
   "metadata": {},
   "outputs": [],
   "source": [
    "from sklearn.feature_selection import SelectFromModel"
   ]
  },
  {
   "cell_type": "code",
   "execution_count": 31,
   "metadata": {},
   "outputs": [
    {
     "data": {
      "text/plain": [
       "0.9991190476190476"
      ]
     },
     "execution_count": 31,
     "metadata": {},
     "output_type": "execute_result"
    }
   ],
   "source": [
    "RFC= RandomForestClassifier(random_state=1, n_estimators=10).fit(x,y)\n",
    "RFCscore = RFC.score(x,y)\n",
    "RFCscore"
   ]
  },
  {
   "cell_type": "code",
   "execution_count": 32,
   "metadata": {},
   "outputs": [
    {
     "data": {
      "text/plain": [
       "array([0.00000000e+00, 0.00000000e+00, 0.00000000e+00, 0.00000000e+00,\n",
       "       0.00000000e+00, 0.00000000e+00, 0.00000000e+00, 0.00000000e+00,\n",
       "       0.00000000e+00, 0.00000000e+00, 0.00000000e+00, 0.00000000e+00,\n",
       "       0.00000000e+00, 0.00000000e+00, 0.00000000e+00, 0.00000000e+00,\n",
       "       0.00000000e+00, 0.00000000e+00, 0.00000000e+00, 0.00000000e+00,\n",
       "       0.00000000e+00, 0.00000000e+00, 0.00000000e+00, 0.00000000e+00,\n",
       "       0.00000000e+00, 0.00000000e+00, 0.00000000e+00, 0.00000000e+00,\n",
       "       0.00000000e+00, 0.00000000e+00, 0.00000000e+00, 0.00000000e+00,\n",
       "       0.00000000e+00, 0.00000000e+00, 0.00000000e+00, 0.00000000e+00,\n",
       "       0.00000000e+00, 1.53227234e-05, 0.00000000e+00, 0.00000000e+00,\n",
       "       1.04247844e-05, 0.00000000e+00, 0.00000000e+00, 0.00000000e+00,\n",
       "       4.52091615e-06, 6.17509309e-06, 0.00000000e+00, 0.00000000e+00,\n",
       "       0.00000000e+00, 0.00000000e+00, 0.00000000e+00, 0.00000000e+00,\n",
       "       0.00000000e+00, 0.00000000e+00, 0.00000000e+00, 0.00000000e+00,\n",
       "       0.00000000e+00, 0.00000000e+00, 0.00000000e+00, 0.00000000e+00,\n",
       "       0.00000000e+00, 0.00000000e+00, 0.00000000e+00, 0.00000000e+00,\n",
       "       4.57793703e-05, 2.06537729e-05, 3.62299298e-05, 3.14648959e-04,\n",
       "       7.06147188e-05, 8.61741549e-05, 1.75340238e-05, 8.68154923e-05,\n",
       "       3.59746074e-05, 2.33785797e-05, 3.37455790e-05, 6.40591262e-06,\n",
       "       1.26934602e-05, 1.70155323e-05, 5.24058843e-06, 0.00000000e+00,\n",
       "       0.00000000e+00, 0.00000000e+00, 0.00000000e+00, 0.00000000e+00,\n",
       "       0.00000000e+00, 0.00000000e+00, 0.00000000e+00, 0.00000000e+00,\n",
       "       0.00000000e+00, 0.00000000e+00, 7.58634856e-06, 4.03429962e-05,\n",
       "       7.60128536e-05, 1.01878042e-04, 2.40308737e-04, 1.16379530e-03,\n",
       "       8.48258476e-04, 8.42688479e-04, 2.22509369e-04, 1.24425964e-03,\n",
       "       1.98873719e-03, 1.10620624e-03, 9.43314217e-04, 1.34352590e-03,\n",
       "       1.31958664e-04, 3.15301130e-04, 3.46955618e-05, 5.40654112e-05,\n",
       "       1.84486428e-05, 1.53719691e-05, 0.00000000e+00, 0.00000000e+00,\n",
       "       0.00000000e+00, 0.00000000e+00, 0.00000000e+00, 0.00000000e+00,\n",
       "       7.69253884e-06, 4.28381835e-07, 4.97491558e-05, 7.19418855e-05,\n",
       "       1.45672204e-04, 1.78761506e-04, 3.47407418e-04, 8.77892760e-04,\n",
       "       1.71306739e-03, 1.18597178e-03, 1.50064873e-03, 5.33996388e-03,\n",
       "       8.82008026e-04, 6.04516519e-04, 7.90674409e-04, 6.85148710e-04,\n",
       "       5.12422210e-04, 2.26007167e-04, 9.70678556e-05, 9.86472109e-05,\n",
       "       2.69671256e-05, 3.63094548e-05, 0.00000000e+00, 0.00000000e+00,\n",
       "       0.00000000e+00, 0.00000000e+00, 0.00000000e+00, 0.00000000e+00,\n",
       "       0.00000000e+00, 0.00000000e+00, 9.10705005e-05, 1.05448995e-04,\n",
       "       3.93674841e-04, 2.45132606e-03, 1.66100643e-03, 3.18784637e-03,\n",
       "       1.40428545e-03, 4.03807802e-03, 5.77993149e-03, 5.60962287e-03,\n",
       "       6.32109228e-03, 3.21104977e-03, 1.77401647e-03, 1.25433369e-03,\n",
       "       7.63596796e-04, 5.48751177e-04, 3.48543158e-04, 5.88962135e-04,\n",
       "       8.05945320e-05, 1.27610976e-05, 9.88048413e-06, 0.00000000e+00,\n",
       "       0.00000000e+00, 0.00000000e+00, 4.98158770e-06, 4.71223280e-06,\n",
       "       2.72158371e-05, 9.60771586e-05, 1.79618486e-04, 7.18466315e-04,\n",
       "       9.62332055e-04, 1.18117193e-03, 2.90835431e-03, 3.91493021e-03,\n",
       "       2.94953426e-03, 2.41802505e-03, 3.57621378e-03, 3.04221083e-03,\n",
       "       5.28165025e-03, 3.20600435e-03, 1.57703919e-03, 1.96037393e-03,\n",
       "       2.56553937e-03, 4.96312136e-04, 1.15978016e-03, 1.62204953e-03,\n",
       "       3.24842373e-04, 2.85500746e-06, 1.76047463e-05, 0.00000000e+00,\n",
       "       0.00000000e+00, 0.00000000e+00, 0.00000000e+00, 1.40689022e-05,\n",
       "       7.03790774e-05, 1.32675231e-04, 3.28118926e-04, 5.19570933e-04,\n",
       "       6.67052667e-04, 1.37958901e-03, 1.11182056e-03, 2.17013890e-03,\n",
       "       3.74387926e-03, 2.56152483e-03, 3.31766429e-03, 4.12700854e-03,\n",
       "       5.45286199e-03, 2.57409024e-03, 2.25564152e-03, 1.79382099e-03,\n",
       "       3.38891332e-03, 2.92260018e-03, 1.93178645e-03, 1.03741629e-03,\n",
       "       2.69713537e-04, 5.89553551e-05, 2.64637030e-06, 0.00000000e+00,\n",
       "       0.00000000e+00, 0.00000000e+00, 1.01194719e-05, 1.47654279e-05,\n",
       "       8.72136711e-05, 2.17885617e-04, 3.04775079e-04, 3.86617407e-04,\n",
       "       1.18573472e-03, 2.21498403e-03, 1.31859017e-03, 2.36528938e-03,\n",
       "       3.39372231e-03, 4.32017181e-03, 9.64646177e-03, 3.82167805e-03,\n",
       "       3.51765969e-03, 2.13097048e-03, 4.54882965e-03, 1.91386946e-03,\n",
       "       2.82910699e-03, 1.51933325e-03, 1.01138134e-03, 3.86119380e-04,\n",
       "       4.12388629e-04, 1.33287859e-04, 0.00000000e+00, 0.00000000e+00,\n",
       "       0.00000000e+00, 0.00000000e+00, 3.70450397e-06, 1.29927773e-05,\n",
       "       5.86025705e-05, 3.35442420e-04, 3.45071136e-04, 1.50775241e-03,\n",
       "       1.02957595e-03, 1.51575367e-03, 7.20127998e-03, 3.98766814e-03,\n",
       "       4.76566368e-03, 3.41536721e-03, 4.36112176e-03, 2.97423202e-03,\n",
       "       3.25033400e-03, 4.09287383e-03, 3.88902851e-03, 3.42302281e-03,\n",
       "       1.20390362e-03, 1.29577342e-03, 2.33584804e-03, 3.84783739e-04,\n",
       "       4.56321775e-04, 2.67190036e-04, 1.33665758e-05, 0.00000000e+00,\n",
       "       0.00000000e+00, 0.00000000e+00, 2.64637030e-06, 9.77714454e-06,\n",
       "       9.00869504e-05, 9.21600769e-05, 3.70640367e-04, 6.75377712e-04,\n",
       "       1.79831452e-03, 2.16812176e-03, 3.05558841e-03, 7.86322346e-03,\n",
       "       3.52353202e-03, 2.14904276e-03, 3.00959367e-03, 2.62847834e-03,\n",
       "       3.40503927e-03, 5.47695986e-03, 2.88188880e-03, 3.11986569e-03,\n",
       "       1.62327880e-03, 2.14443130e-03, 4.15154991e-04, 8.07416600e-04,\n",
       "       2.06514087e-04, 5.93878336e-05, 2.99122821e-05, 1.79000147e-05,\n",
       "       0.00000000e+00, 0.00000000e+00, 1.92900785e-05, 1.94595460e-05,\n",
       "       1.48549937e-04, 1.69956297e-04, 5.95352841e-04, 3.96972850e-03,\n",
       "       1.35056358e-03, 1.28621560e-03, 1.86179738e-03, 6.71599540e-03,\n",
       "       3.59678526e-03, 3.90053534e-03, 2.90199492e-03, 5.03990130e-03,\n",
       "       2.92782047e-03, 2.41467430e-03, 2.67723233e-03, 3.57169987e-03,\n",
       "       3.04316037e-03, 1.22579999e-03, 4.95076249e-03, 3.14688390e-04,\n",
       "       1.84521500e-04, 6.24619573e-05, 0.00000000e+00, 0.00000000e+00,\n",
       "       0.00000000e+00, 0.00000000e+00, 1.34495183e-05, 1.91779464e-05,\n",
       "       3.61402685e-05, 2.22847540e-04, 4.13690666e-04, 1.77793003e-03,\n",
       "       1.91815042e-03, 1.20950955e-02, 4.04346945e-03, 5.91138167e-03,\n",
       "       3.82715913e-03, 3.27754894e-03, 1.56316266e-02, 3.77444371e-03,\n",
       "       3.12950403e-03, 7.18534412e-03, 3.73352889e-03, 1.70348727e-03,\n",
       "       2.90623628e-03, 1.51350745e-03, 4.86912784e-03, 2.20508361e-04,\n",
       "       1.49676644e-04, 3.04635520e-05, 2.64646847e-06, 0.00000000e+00,\n",
       "       0.00000000e+00, 0.00000000e+00, 0.00000000e+00, 1.86341312e-05,\n",
       "       3.79473283e-05, 7.05332985e-04, 2.05000549e-03, 2.21856045e-03,\n",
       "       1.92080588e-03, 1.47853865e-03, 1.37924004e-02, 3.35160446e-03,\n",
       "       6.44999620e-03, 3.47296530e-03, 1.00302133e-02, 2.82967193e-03,\n",
       "       8.13089628e-03, 3.85385683e-03, 4.63302943e-03, 1.45526560e-03,\n",
       "       1.24257907e-03, 1.21341197e-03, 6.60431716e-03, 1.86124133e-04,\n",
       "       1.22455555e-04, 3.42324519e-05, 0.00000000e+00, 0.00000000e+00,\n",
       "       0.00000000e+00, 0.00000000e+00, 0.00000000e+00, 4.82772688e-05,\n",
       "       5.51226914e-05, 3.45821598e-04, 2.19074974e-03, 3.36801091e-03,\n",
       "       2.26755474e-03, 3.68330451e-03, 1.91792357e-03, 4.11847230e-03,\n",
       "       4.12800848e-03, 2.86171904e-03, 5.24418934e-03, 2.39657130e-03,\n",
       "       3.02899696e-03, 9.19147358e-03, 1.58156228e-03, 1.27338015e-03,\n",
       "       1.03576226e-03, 1.19131715e-03, 7.86060754e-04, 1.64413013e-03,\n",
       "       1.16141286e-04, 5.25530137e-05, 2.31333852e-05, 0.00000000e+00,\n",
       "       0.00000000e+00, 0.00000000e+00, 0.00000000e+00, 2.38608309e-05,\n",
       "       1.05046043e-04, 4.20109289e-04, 8.01910337e-04, 1.89678685e-03,\n",
       "       2.68986390e-03, 5.02723859e-03, 5.24089266e-03, 3.74835110e-03,\n",
       "       5.29723107e-03, 1.28160709e-02, 3.42408021e-03, 7.08878419e-03,\n",
       "       7.25655613e-03, 1.46893658e-03, 5.25882572e-03, 1.60119710e-03,\n",
       "       2.71703652e-03, 9.27042815e-04, 7.23355719e-04, 2.59672379e-04,\n",
       "       1.18238386e-04, 2.74079225e-05, 0.00000000e+00, 3.18667987e-05,\n",
       "       0.00000000e+00, 0.00000000e+00, 0.00000000e+00, 3.14211987e-05,\n",
       "       1.00324941e-04, 2.39556500e-04, 8.11057073e-04, 2.34777671e-03,\n",
       "       2.98674267e-03, 7.74290983e-03, 2.35040938e-03, 7.26661569e-03,\n",
       "       8.01296861e-03, 6.93655665e-03, 3.16514401e-03, 2.08086365e-03,\n",
       "       5.44824902e-03, 5.08911408e-03, 1.59514301e-03, 1.66949285e-03,\n",
       "       1.37766299e-03, 1.07636403e-03, 4.98396176e-04, 3.53601976e-04,\n",
       "       1.32469553e-04, 1.44582903e-04, 5.23145917e-06, 4.41061717e-06,\n",
       "       0.00000000e+00, 0.00000000e+00, 1.02254989e-05, 1.15191178e-05,\n",
       "       9.69191836e-05, 2.61907061e-04, 6.56662837e-04, 1.41566085e-03,\n",
       "       7.26971370e-03, 3.11314410e-03, 3.18986415e-03, 4.35864568e-03,\n",
       "       7.41442885e-03, 1.40001781e-02, 3.97065568e-03, 1.78463897e-03,\n",
       "       1.76891802e-03, 1.53084224e-03, 1.23702222e-03, 1.99195798e-03,\n",
       "       1.06067180e-03, 6.49018412e-04, 5.03528593e-04, 3.93891362e-04,\n",
       "       1.59962719e-04, 4.09704792e-05, 0.00000000e+00, 7.05690781e-06,\n",
       "       0.00000000e+00, 0.00000000e+00, 1.53482136e-05, 3.62803367e-05,\n",
       "       9.92692472e-05, 2.16013310e-03, 5.03673578e-04, 2.68531936e-03,\n",
       "       1.99254033e-03, 2.99812377e-03, 4.11920981e-03, 5.29976881e-03,\n",
       "       6.74754503e-03, 3.73804453e-03, 4.41655828e-03, 1.97890059e-03,\n",
       "       1.33005454e-03, 1.32895624e-03, 4.75883243e-03, 5.28962923e-03,\n",
       "       1.16252761e-03, 8.51871240e-04, 6.30683881e-04, 2.71224214e-04,\n",
       "       2.19639766e-04, 1.54622277e-05, 3.10318982e-05, 0.00000000e+00,\n",
       "       0.00000000e+00, 0.00000000e+00, 8.94652351e-06, 6.20810976e-05,\n",
       "       2.35653060e-04, 5.61780885e-04, 7.51254582e-04, 1.59039368e-03,\n",
       "       5.60529013e-03, 3.92758995e-03, 8.02964946e-03, 6.37882743e-03,\n",
       "       2.81983806e-03, 2.56029518e-03, 1.42254944e-03, 9.80779826e-04,\n",
       "       2.24663043e-03, 1.14007622e-03, 3.78127200e-03, 2.57364366e-03,\n",
       "       6.74170288e-04, 1.14161870e-03, 3.83507107e-04, 4.27096744e-04,\n",
       "       1.79848584e-04, 3.98268043e-05, 0.00000000e+00, 0.00000000e+00,\n",
       "       0.00000000e+00, 0.00000000e+00, 0.00000000e+00, 1.30628127e-05,\n",
       "       2.47737384e-04, 5.91381010e-04, 1.14834914e-03, 6.48696298e-03,\n",
       "       2.33825105e-03, 1.24807605e-02, 4.82148795e-03, 1.77082651e-03,\n",
       "       2.16200639e-03, 1.80383235e-03, 1.78180118e-03, 2.55693410e-03,\n",
       "       1.19302831e-03, 2.01621829e-03, 5.06970878e-03, 6.48804056e-04,\n",
       "       1.37488401e-03, 6.42219265e-04, 4.13344877e-04, 2.58338466e-04,\n",
       "       6.35965288e-05, 1.13351724e-05, 0.00000000e+00, 0.00000000e+00,\n",
       "       0.00000000e+00, 0.00000000e+00, 9.68168422e-06, 4.56704907e-05,\n",
       "       2.16988492e-04, 2.69577908e-04, 7.27021890e-04, 9.34307782e-04,\n",
       "       3.61286934e-03, 5.96449182e-03, 2.19460680e-03, 2.05616705e-03,\n",
       "       1.31838026e-03, 1.49999263e-03, 1.47278019e-03, 1.01512931e-03,\n",
       "       1.13984769e-03, 1.15512240e-03, 3.10727649e-03, 9.97332792e-04,\n",
       "       5.95867175e-04, 3.61233054e-04, 9.06011940e-04, 8.14815012e-05,\n",
       "       5.07614551e-05, 3.96958491e-06, 0.00000000e+00, 0.00000000e+00,\n",
       "       0.00000000e+00, 0.00000000e+00, 0.00000000e+00, 2.82919532e-05,\n",
       "       9.64947605e-05, 1.63389552e-04, 2.50552370e-03, 1.62552928e-03,\n",
       "       1.66143798e-03, 2.41563773e-03, 1.61295199e-03, 2.46544372e-03,\n",
       "       1.45044084e-03, 1.28053393e-03, 1.17386134e-03, 9.70308280e-04,\n",
       "       1.31423725e-03, 1.08922004e-03, 8.54364265e-04, 9.30877293e-04,\n",
       "       4.41031168e-04, 1.35588867e-04, 1.27954130e-04, 1.16930022e-04,\n",
       "       2.62326907e-05, 2.32321586e-05, 0.00000000e+00, 0.00000000e+00,\n",
       "       0.00000000e+00, 0.00000000e+00, 0.00000000e+00, 3.08560384e-05,\n",
       "       7.22719016e-05, 1.83204506e-04, 3.95323049e-04, 8.89332183e-04,\n",
       "       9.49803867e-04, 1.20042535e-03, 1.93591140e-03, 3.29439878e-03,\n",
       "       6.63699078e-03, 5.63521566e-03, 2.13090794e-03, 3.60573068e-03,\n",
       "       1.09788931e-03, 7.54813673e-04, 7.84819430e-04, 4.24565927e-04,\n",
       "       2.18265584e-04, 7.39830509e-05, 8.00114331e-05, 1.29037467e-05,\n",
       "       1.17409380e-05, 2.64637030e-06, 0.00000000e+00, 0.00000000e+00,\n",
       "       0.00000000e+00, 0.00000000e+00, 0.00000000e+00, 5.14094429e-06,\n",
       "       5.37494420e-05, 1.21572401e-04, 1.63767039e-04, 2.26660396e-04,\n",
       "       7.46030252e-04, 6.56540107e-04, 1.37753027e-03, 3.53554964e-03,\n",
       "       5.69320582e-04, 6.64387334e-04, 7.65832761e-04, 1.08276479e-03,\n",
       "       6.15339876e-04, 3.38909954e-04, 3.51967025e-04, 1.15321055e-04,\n",
       "       9.10092486e-05, 8.99416023e-05, 5.16346071e-05, 6.84069719e-05,\n",
       "       0.00000000e+00, 0.00000000e+00, 0.00000000e+00, 0.00000000e+00,\n",
       "       0.00000000e+00, 0.00000000e+00, 0.00000000e+00, 0.00000000e+00,\n",
       "       5.25902815e-06, 2.55025745e-05, 1.34588493e-04, 5.13589099e-04,\n",
       "       3.33620990e-04, 1.70063887e-03, 5.87650058e-04, 1.25657656e-03,\n",
       "       6.40907639e-04, 2.20973095e-03, 5.20428267e-04, 4.18005546e-04,\n",
       "       1.26633836e-04, 6.45565312e-04, 1.30423727e-03, 1.31438087e-04,\n",
       "       1.04679246e-04, 3.39286515e-05, 2.99897634e-05, 0.00000000e+00,\n",
       "       4.76293368e-06, 0.00000000e+00, 0.00000000e+00, 0.00000000e+00,\n",
       "       0.00000000e+00, 0.00000000e+00, 0.00000000e+00, 0.00000000e+00,\n",
       "       0.00000000e+00, 1.26958691e-05, 1.52903309e-05, 9.79887211e-06,\n",
       "       7.41615847e-05, 6.85539715e-05, 2.02823674e-04, 1.44882814e-04,\n",
       "       3.44270358e-05, 2.05424745e-04, 9.08248136e-05, 7.67598766e-05,\n",
       "       4.94899846e-04, 7.92901342e-06, 1.00329346e-04, 1.35966936e-05,\n",
       "       1.40239692e-05, 5.29301372e-06, 2.82713941e-05, 0.00000000e+00,\n",
       "       0.00000000e+00, 0.00000000e+00, 0.00000000e+00, 0.00000000e+00,\n",
       "       0.00000000e+00, 0.00000000e+00, 0.00000000e+00, 0.00000000e+00,\n",
       "       0.00000000e+00, 0.00000000e+00, 0.00000000e+00, 0.00000000e+00,\n",
       "       0.00000000e+00, 0.00000000e+00, 0.00000000e+00, 0.00000000e+00,\n",
       "       0.00000000e+00, 3.96924945e-06, 1.33875387e-05, 0.00000000e+00,\n",
       "       0.00000000e+00, 1.02488707e-05, 2.77674418e-05, 0.00000000e+00,\n",
       "       0.00000000e+00, 1.04654817e-05, 0.00000000e+00, 0.00000000e+00,\n",
       "       0.00000000e+00, 0.00000000e+00, 0.00000000e+00, 0.00000000e+00])"
      ]
     },
     "execution_count": 32,
     "metadata": {},
     "output_type": "execute_result"
    }
   ],
   "source": [
    "RFC.feature_importances_"
   ]
  },
  {
   "cell_type": "code",
   "execution_count": 25,
   "metadata": {},
   "outputs": [],
   "source": [
    "RFC = RandomForestClassifier(n_estimators=10, random_state=1)\n",
    "embedded = SelectFromModel(RFC, threshold=0.005).fit_transform(x,y)"
   ]
  },
  {
   "cell_type": "code",
   "execution_count": 26,
   "metadata": {},
   "outputs": [
    {
     "data": {
      "text/plain": [
       "(42000, 51)"
      ]
     },
     "execution_count": 26,
     "metadata": {},
     "output_type": "execute_result"
    }
   ],
   "source": [
    "embedded.shape"
   ]
  },
  {
   "cell_type": "code",
   "execution_count": 33,
   "metadata": {},
   "outputs": [
    {
     "data": {
      "text/plain": [
       "0.01563162660506957"
      ]
     },
     "execution_count": 33,
     "metadata": {},
     "output_type": "execute_result"
    }
   ],
   "source": [
    " (RFC.feature_importances_).max()"
   ]
  },
  {
   "cell_type": "code",
   "execution_count": 45,
   "metadata": {},
   "outputs": [],
   "source": [
    "RFC = RandomForestClassifier(n_estimators=8, random_state=1).fit(x,y)\n",
    "threshold = np.linspace(0, RFC.feature_importances_.max(), 20)"
   ]
  },
  {
   "cell_type": "code",
   "execution_count": 47,
   "metadata": {},
   "outputs": [
    {
     "data": {
      "text/plain": [
       "array([0.        , 0.00086643, 0.00173287, 0.0025993 , 0.00346573,\n",
       "       0.00433216, 0.0051986 , 0.00606503, 0.00693146, 0.0077979 ,\n",
       "       0.00866433, 0.00953076, 0.01039719, 0.01126363, 0.01213006,\n",
       "       0.01299649, 0.01386292, 0.01472936, 0.01559579, 0.01646222])"
      ]
     },
     "execution_count": 47,
     "metadata": {},
     "output_type": "execute_result"
    }
   ],
   "source": [
    "threshold"
   ]
  },
  {
   "cell_type": "code",
   "execution_count": 46,
   "metadata": {},
   "outputs": [
    {
     "data": {
      "image/png": "[encoded data removed]",
      "text/plain": [
       "<Figure size 432x288 with 1 Axes>"
      ]
     },
     "metadata": {
      "needs_background": "light"
     },
     "output_type": "display_data"
    }
   ],
   "source": [
    "score = []\n",
    "for i in threshold:\n",
    "    RFC = RandomForestClassifier(n_estimators=8, random_state=1)\n",
    "    embedded = SelectFromModel(RFC, threshold=i).fit_transform(x,y)\n",
    "    score.append(cross_val_score(RFC, embedded, y, cv = 5).mean())\n",
    "plt.plot(threshold, score)\n",
    "plt.show()"
   ]
  },
  {
   "cell_type": "markdown",
   "metadata": {},
   "source": [
    "# 包裝法"
   ]
  },
  {
   "cell_type": "code",
   "execution_count": 48,
   "metadata": {},
   "outputs": [],
   "source": [
    "from sklearn.feature_selection import RFE"
   ]
  },
  {
   "cell_type": "code",
   "execution_count": 49,
   "metadata": {},
   "outputs": [],
   "source": [
    "RFC = RandomForestClassifier(n_estimators=10, random_state=1)\n",
    "selector = RFE(RFC, n_features_to_select=340, step=50).fit(x,y)"
   ]
  },
  {
   "cell_type": "code",
   "execution_count": 56,
   "metadata": {},
   "outputs": [
    {
     "data": {
      "text/plain": [
       "340"
      ]
     },
     "execution_count": 56,
     "metadata": {},
     "output_type": "execute_result"
    }
   ],
   "source": [
    "selector.support_.sum()"
   ]
  },
  {
   "cell_type": "code",
   "execution_count": 57,
   "metadata": {},
   "outputs": [],
   "source": [
    "x_wrap = selector.transform(x)"
   ]
  },
  {
   "cell_type": "code",
   "execution_count": 58,
   "metadata": {},
   "outputs": [
    {
     "data": {
      "text/plain": [
       "0.9386908115990413"
      ]
     },
     "execution_count": 58,
     "metadata": {},
     "output_type": "execute_result"
    }
   ],
   "source": [
    "cross_val_score(RFC, x_wrap, y, cv=5).mean()"
   ]
  },
  {
   "cell_type": "code",
   "execution_count": 61,
   "metadata": {},
   "outputs": [
    {
     "data": {
      "image/png": "[encoded data removed]",
      "text/plain": [
       "<Figure size 1080x360 with 1 Axes>"
      ]
     },
     "metadata": {
      "needs_background": "light"
     },
     "output_type": "display_data"
    }
   ],
   "source": [
    "score = []\n",
    "for i in range(1,502, 50):\n",
    "    RFC = RandomForestClassifier(random_state=1, n_estimators=8)\n",
    "    x_wrap = RFE(RFC, n_features_to_select=i, step=50).fit_transform(x,y)\n",
    "    once = cross_val_score(RFC, x_wrap, y, cv=5).mean()\n",
    "    score.append(once)\n",
    "plt.figure(figsize=[15,5])\n",
    "plt.plot(range(1,502,50), score)\n",
    "plt.xticks(range(1,502,50))\n",
    "plt.show()"
   ]
  },
  {
   "cell_type": "code",
   "execution_count": null,
   "metadata": {},
   "outputs": [],
   "source": []
  }
 ],
 "metadata": {
  "kernelspec": {
   "display_name": "Python 3",
   "language": "python",
   "name": "python3"
  },
  "language_info": {
   "codemirror_mode": {
    "name": "ipython",
    "version": 3
   },
   "file_extension": ".py",
   "mimetype": "text/x-python",
   "name": "python",
   "nbconvert_exporter": "python",
   "pygments_lexer": "ipython3",
   "version": "3.7.3"
  }
 },
 "nbformat": 4,
 "nbformat_minor": 2
}
